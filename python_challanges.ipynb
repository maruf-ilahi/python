{
  "nbformat": 4,
  "nbformat_minor": 0,
  "metadata": {
    "colab": {
      "name": "python_challanges.ipynb",
      "provenance": [],
      "authorship_tag": "ABX9TyNfBetPRYMFtff/L+mHPvhG",
      "include_colab_link": true
    },
    "kernelspec": {
      "name": "python3",
      "display_name": "Python 3"
    },
    "language_info": {
      "name": "python"
    }
  },
  "cells": [
    {
      "cell_type": "markdown",
      "metadata": {
        "id": "view-in-github",
        "colab_type": "text"
      },
      "source": [
        "<a href=\"https://colab.research.google.com/github/maruf-ilahi/python/blob/challenges/python_challanges.ipynb\" target=\"_parent\"><img src=\"https://colab.research.google.com/assets/colab-badge.svg\" alt=\"Open In Colab\"/></a>"
      ]
    },
    {
      "cell_type": "markdown",
      "source": [
        "###**Prime Factor challange**"
      ],
      "metadata": {
        "id": "p5yvPlBVtFn0"
      }
    },
    {
      "cell_type": "code",
      "execution_count": 1,
      "metadata": {
        "colab": {
          "base_uri": "https://localhost:8080/"
        },
        "id": "g7zM-sqFs7ry",
        "outputId": "f26ba9ad-5a1f-470c-b90c-09e7dd8d92a3"
      },
      "outputs": [
        {
          "output_type": "execute_result",
          "data": {
            "text/plain": [
              "[2, 2, 2, 97]"
            ]
          },
          "metadata": {},
          "execution_count": 1
        }
      ],
      "source": [
        "def get_prime_factors(N):\n",
        "  factors = list()\n",
        "  divisor = 2\n",
        "  while(divisor <= N):\n",
        "    if (N % divisor) == 0:\n",
        "       factors.append(divisor)\n",
        "       N = N//divisor\n",
        "    else:\n",
        "      divisor += 1\n",
        "  return factors\n",
        "  \n",
        "get_prime_factors(776)"
      ]
    },
    {
      "cell_type": "code",
      "source": [
        ""
      ],
      "metadata": {
        "id": "JlTUTxyCtMfc"
      },
      "execution_count": null,
      "outputs": []
    }
  ]
}